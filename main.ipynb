{
 "cells": [
  {
   "attachments": {},
   "cell_type": "markdown",
   "metadata": {},
   "source": [
    "<h1 align=\"center\">Title: Implementing a Simple Search Algorithm in Python</h1>\n",
    "<p>Name: Muhammad Mobeen<br>\n",
    "Reg No: 200901097<br>\n",
    "BS-CS-01(B)<br>\n",
    "Artificial Intelligence Assignment No 1 [Due Date: 23 Feb 23]<br>\n",
    "Github URL: <a href=\"https://github.com/muhammad-mobeen/Graph-Search-Algorithm\">github.com/muhammad-mobeen/Graph-Search-Algorithm</a><br>\n",
    "Submitted to Mam Reeda Saeed</p>"
   ]
  },
  {
   "cell_type": "markdown",
   "metadata": {},
   "source": [
    "<h1 align=\"center\">Source Code</h1>"
   ]
  },
  {
   "cell_type": "code",
   "execution_count": null,
   "metadata": {},
   "outputs": [],
   "source": [
    "from collections import deque       # Library for implementing Queues & Stacks required for DFS & BFS implementation.\n",
    "\n",
    "class Node:\n",
    "    '''Holds the data structure for a main node'''\n",
    "    def __init__(self, data):\n",
    "        self.data = data\n",
    "        self.adj_nodes = []       # [AdjNode, AdjNode,......]\n",
    "\n",
    "\n",
    "class AdjNode:\n",
    "    '''Holds the data structure for adjacent nodes to a main node'''\n",
    "    def __init__(self, node, edge):\n",
    "        self.node = node    # Main Node()\n",
    "        self.edge = edge    # Weights\n",
    "\n",
    "\n",
    "class Graph:\n",
    "    '''\n",
    "        Holds a Graph data structures along with graph manipulators and search algorithms.\n",
    "\n",
    "        Parameters: Adjacency Matrix (gets adjacency matrix and convert it into adjacency list)\n",
    "\n",
    "        Data Structure: Adjacency List (Graph Data Structure)\n",
    "\n",
    "        Functions:-\n",
    "        1. Adjacency Matrix parser that returns an Adjacency List\n",
    "        2. Depth First Search Algorithm\n",
    "        3. Breadth First Search Algorithm\n",
    "        4. Shows the Adjacency List\n",
    "    '''\n",
    "    def __init__(self):\n",
    "        self.adjacency_list = []\n",
    "\n",
    "    def adjacency_matrix_parser(self, graph_data_dict, adj_matrix):\n",
    "        '''Parses adjacency matrix and returns an adjacency list.'''\n",
    "        for key, value in graph_data_dict.items():\n",
    "            self.adjacency_list.append(Node(value))\n",
    "\n",
    "        for r, row in enumerate(adj_matrix):\n",
    "            for c, col in enumerate(row):\n",
    "                if col != None:\n",
    "                    self.adjacency_list[r].adj_nodes.append(AdjNode(self.adjacency_list[c], col))\n",
    "\n",
    "    def DFS(self, goal):\n",
    "        '''Implements Depth First Search Algorithm on the generated graph.'''\n",
    "        frontier = deque()\n",
    "        explored = []\n",
    "        # eexplored = []\n",
    "        cost = 0\n",
    "        goal_cost = None\n",
    "        frontier.append((self.adjacency_list[0],cost))\n",
    "        while len(frontier) > 0:\n",
    "            node = frontier.pop()\n",
    "            cost += node[1]\n",
    "            explored.append((node[0],cost))\n",
    "            if len(node[0].adj_nodes) > 0:\n",
    "                for item in node[0].adj_nodes:\n",
    "                    if item.node not in [k[0] for k in explored] and item.node not in [l[0] for l in frontier]:\n",
    "                        frontier.append((item.node,item.edge))\n",
    "                        # eexplored.append((item.node,item.edge))\n",
    "\n",
    "        print(\"Depth First Search:-\")\n",
    "        print(\"No.  |  Travel Cost  |  City Name\")\n",
    "        for i,x in enumerate(explored):\n",
    "            if x[0].data == goal:\n",
    "                goal_cost = x[1]\n",
    "            print(\"{}.          {}             {}\".format(i,x[1],x[0].data))\n",
    "        print(\"-------------------------------------------------------------\")\n",
    "        print(\"Source:    {}\\nGoal:   {}\\nSource to goal DFS cost:    {}\\nPath:   \".format(explored[0][0].data,goal,goal_cost),end=\"\")\n",
    "        for i in explored:\n",
    "            if i[0].data != goal:\n",
    "                print(\"{} -> \".format(i[0].data),end=\"\")\n",
    "            else:\n",
    "                print(\"{}\".format(i[0].data))\n",
    "                break\n",
    "\n",
    "    def BFS(self, goal):\n",
    "        '''Implements Breadth First Search Algorithm on the generated graph.'''\n",
    "        frontier = deque()\n",
    "        explored = []\n",
    "        eexplored = []\n",
    "        cost = 0\n",
    "        goal_cost = None\n",
    "        frontier.append(self.adjacency_list[0])\n",
    "        eexplored.append((self.adjacency_list[0],cost))\n",
    "        while len(frontier) > 0:\n",
    "            node = frontier.popleft()\n",
    "            explored.append(node)\n",
    "            if len(node.adj_nodes) > 0:\n",
    "                for item in node.adj_nodes:\n",
    "                    if item.node not in explored and item.node not in frontier:\n",
    "                        frontier.append(item.node)\n",
    "                        cost += item.edge\n",
    "                        eexplored.append((item.node,cost))\n",
    "\n",
    "        print(\"Breadth First Search:-\")\n",
    "        print(\"No.  |  Travel Cost  |  City Name\")\n",
    "        for i,x in enumerate(eexplored):\n",
    "            if x[0].data == goal:\n",
    "                goal_cost = x[1]\n",
    "            print(\"{}.          {}             {}\".format(i,x[1],x[0].data))\n",
    "        print(\"-------------------------------------------------------------\")\n",
    "        print(\"Source:    {}\\nGoal:   {}\\nSource to goal DFS cost:    {}\\nPath:   \".format(eexplored[0][0].data,goal,goal_cost),end=\"\")\n",
    "        for i in eexplored:\n",
    "            if i[0].data != goal:\n",
    "                print(\"{} -> \".format(i[0].data),end=\"\")\n",
    "            else:\n",
    "                print(\"{}\".format(i[0].data))\n",
    "                break\n",
    "\n",
    "    def show(self):\n",
    "        '''Outputs Adjacency List'''\n",
    "        for i, item in enumerate(self.adjacency_list):\n",
    "            print(\"{}. {} --> \".format(i, item.data), end=\"\")\n",
    "            for x in item.adj_nodes:\n",
    "                print(\"({}:{}), \".format(x.node.data, x.edge), end=\"\")\n",
    "            print()"
   ]
  },
  {
   "attachments": {},
   "cell_type": "markdown",
   "metadata": {},
   "source": [
    "<h2 align=\"center\">Adjacency Matrix</h2>\n",
    "<b>Description:</b>\n",
    "<p>Adjacency matrix stores the adjacent nodes and edge weights data that represents a graph. Graph dictionary is also defined to refrence the indexes and name of Romanian cities.</p>"
   ]
  },
  {
   "cell_type": "code",
   "execution_count": null,
   "metadata": {},
   "outputs": [],
   "source": [
    "adj_graph_matrix = [\n",
    "    [None,   75, None,  118, None, None, None, None,  140, None, None, None, None, None, None, None, None, None, None, None],\n",
    "    [  75, None,   71, None, None, None, None, None, None, None, None, None, None, None, None, None, None, None, None, None],\n",
    "    [None,   71, None, None, None, None, None, None,  151, None, None, None, None, None, None, None, None, None, None, None],\n",
    "    [ 118, None, None, None,  111, None, None, None, None, None, None, None, None, None, None, None, None, None, None, None],\n",
    "    [None, None, None,  111, None,   70, None, None, None, None, None, None, None, None, None, None, None, None, None, None],\n",
    "    [None, None, None, None,   70, None,   75, None, None, None, None, None, None, None, None, None, None, None, None, None],\n",
    "    [None, None, None, None, None,   75, None,  120, None, None, None, None, None, None, None, None, None, None, None, None],\n",
    "    [None, None, None, None, None, None,  120, None, None, None,  146,  138, None, None, None, None, None, None, None, None],\n",
    "    [ 140, None,  151, None, None, None, None, None, None,   99,   80, None, None, None, None, None, None, None, None, None],\n",
    "    [None, None, None, None, None, None, None, None,   99, None, None, None,  211, None, None, None, None, None, None, None],\n",
    "    [None, None, None, None, None, None, None,  146,   80, None, None,   97, None, None, None, None, None, None, None, None],\n",
    "    [None, None, None, None, None, None, None,  138, None, None,   97, None,  101, None, None, None, None, None, None, None],\n",
    "    [None, None, None, None, None, None, None, None, None,  211, None,  101, None,   90,   85, None, None, None, None, None],\n",
    "    [None, None, None, None, None, None, None, None, None, None, None, None,   90, None, None, None, None, None, None, None],\n",
    "    [None, None, None, None, None, None, None, None, None, None, None, None,   85, None, None,   98, None,  142, None, None],\n",
    "    [None, None, None, None, None, None, None, None, None, None, None, None, None, None,   98, None,   86, None, None, None],\n",
    "    [None, None, None, None, None, None, None, None, None, None, None, None, None, None, None,   86, None, None, None, None],\n",
    "    [None, None, None, None, None, None, None, None, None, None, None, None, None, None,  142, None, None, None,   92, None],\n",
    "    [None, None, None, None, None, None, None, None, None, None, None, None, None, None, None, None, None,   92, None,   87],\n",
    "    [None, None, None, None, None, None, None, None, None, None, None, None, None, None, None, None, None, None,   87, None]\n",
    "]\n",
    "\n",
    "graph_data_dict = {\n",
    "    0: 'Arad',\n",
    "    1: 'Zernid',\n",
    "    2: 'Oradea',\n",
    "    3: 'Timisoara',\n",
    "    4: 'Lugoj',\n",
    "    5: 'Mehadia',\n",
    "    6: 'Dobreta',\n",
    "    7: 'Craiova',\n",
    "    8: 'Sibiu',\n",
    "    9: 'Fagaras',\n",
    "    10: 'Rimnicu Vilcea',\n",
    "    11: 'Pitesti',\n",
    "    12: 'Bucharest',\n",
    "    13: 'Giurgiu',\n",
    "    14: 'Urziceni',\n",
    "    15: 'Hirsova',\n",
    "    16: 'Eforie',\n",
    "    17: 'Vaslui',\n",
    "    18: 'lasi',\n",
    "    19: 'Neamt'\n",
    "}"
   ]
  },
  {
   "attachments": {},
   "cell_type": "markdown",
   "metadata": {},
   "source": [
    "<h1 align=\"center\">Implementation</h1>"
   ]
  },
  {
   "cell_type": "code",
   "execution_count": null,
   "metadata": {},
   "outputs": [],
   "source": [
    "graph = Graph()                                                     # Initializing Graph Object\n",
    "graph.adjacency_matrix_parser(graph_data_dict, adj_graph_matrix)    # Parsing Adjacency Matrix"
   ]
  },
  {
   "attachments": {},
   "cell_type": "markdown",
   "metadata": {},
   "source": [
    "<h2 align=\"center\">Adjacency List</h2>\n",
    "<h3>Syntax:-</h3>\n",
    "<p>City --> (Neighbour_City: Distance), (Neighbour_City: Distance),</p>"
   ]
  },
  {
   "cell_type": "code",
   "execution_count": null,
   "metadata": {},
   "outputs": [],
   "source": [
    "graph.show()    # Prints Adjacency List"
   ]
  },
  {
   "attachments": {},
   "cell_type": "markdown",
   "metadata": {},
   "source": [
    "<h2 align=\"center\">Depth First Search</h2>"
   ]
  },
  {
   "cell_type": "code",
   "execution_count": null,
   "metadata": {},
   "outputs": [],
   "source": [
    "# Run this to run DFS on the graph\n",
    "graph.DFS(\"Bucharest\")"
   ]
  },
  {
   "attachments": {},
   "cell_type": "markdown",
   "metadata": {},
   "source": [
    "<h2 align=\"center\">Breadth First Search</h2>"
   ]
  },
  {
   "cell_type": "code",
   "execution_count": null,
   "metadata": {},
   "outputs": [],
   "source": [
    "# Run this to run BFS on the graph\n",
    "graph.BFS(\"Bucharest\")"
   ]
  },
  {
   "attachments": {},
   "cell_type": "markdown",
   "metadata": {},
   "source": [
    "<h1 align=\"center\">Results</h1>\n",
    "<h4 align=\"center\">The above search analysis show that DFS has outperformed the BFS.</h4>"
   ]
  }
 ],
 "metadata": {
  "kernelspec": {
   "display_name": "base",
   "language": "python",
   "name": "python3"
  },
  "language_info": {
   "codemirror_mode": {
    "name": "ipython",
    "version": 3
   },
   "file_extension": ".py",
   "mimetype": "text/x-python",
   "name": "python",
   "nbconvert_exporter": "python",
   "pygments_lexer": "ipython3",
   "version": "3.8.8"
  },
  "vscode": {
   "interpreter": {
    "hash": "6fe7c4f14ba57f800ed0a8c310d3d00a62ac00e71da74ba598c9bcf0bb8327b5"
   }
  }
 },
 "nbformat": 4,
 "nbformat_minor": 2
}
